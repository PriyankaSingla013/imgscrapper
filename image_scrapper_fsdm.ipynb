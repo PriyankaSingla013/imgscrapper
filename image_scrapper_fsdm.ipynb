{
 "cells": [
  {
   "cell_type": "code",
   "execution_count": 158,
   "id": "3c5fd9f7-7c4f-4a1b-a888-00aa205a9348",
   "metadata": {},
   "outputs": [],
   "source": [
    "import requests\n",
    "import logging\n",
    "import os\n",
    "from bs4 import BeautifulSoup\n",
    "from urllib.request import urlopen"
   ]
  },
  {
   "cell_type": "code",
   "execution_count": 159,
   "id": "49fe2a1e-e8ce-4d81-92ec-85873cfb0326",
   "metadata": {},
   "outputs": [],
   "source": [
    "save_dir=\"images/\"\n",
    "if not os.path.exists(save_dir):\n",
    "    os.makedirs(save_dir)"
   ]
  },
  {
   "cell_type": "code",
   "execution_count": 160,
   "id": "2c26486d-f31e-48fb-9e84-a07bc93fe15c",
   "metadata": {},
   "outputs": [],
   "source": [
    "query=\"sippy gill\"\n",
    "#url=https://www.google.com/search?q=query&sxsrf=ADLYWIJNdMtfDOxtcli1ptNkLZejJ65pVA:1718383051903&q=elon+musk&udm=2&fbs=AEQNm0AMrUEM0u25RSHSP2GXBv1FqRTJXslv5T9cWPShXuZK-unDRtidhDD6MO07O664cf3rzCkRGzT6TOmIkWN6z59BEI_sG_WvMHTpzIDOeN0PG5PbQE-fUxh_CRmIjIVTMPZLqRLt8LEJmd-JeyXMTy_SsVO4Ripm82z6vpZhP9tO4TJ_Xc2C9SbcBfqKU5SUBcd-NfHrlEA0NtWnPbhLSCHG8iDz0g&sa=X&ved=2ahUKEwiqgJbbw9uGAxWGl68BHQLsA0oQtKgLegQIEBAB&cshid=1718383124247313&biw=681&bih=598&dpr=1\n"
   ]
  },
  {
   "cell_type": "code",
   "execution_count": 161,
   "id": "395b9d36-1758-4fc3-8ba5-5476c053d895",
   "metadata": {},
   "outputs": [],
   "source": [
    "response=requests.get(f\"https://www.google.com/search?sca_esv=0ab82018341e5395&sxsrf=ADLYWIJuA8pmW_AtxfLXXMHPz5GQIjhnfQ:1718391931320&q={query}&udm=2&fbs=AEQNm0AMrUEM0u25RSHSP2GXBv1FqRTJXslv5T9cWPShXuZK-unDRtidhDD6MO07O664cf3rzCkRGzT6TOmIkWN6z59BEI_sG_WvMHTpzIDOeN0PG5PbQE-fUxh_CRmIjIVTMPZLqRLt8LEJmd-JeyXMTy_SsVO4Ripm82z6vpZhP9tO4TJ_Xc2C9SbcBfqKU5SUBcd-NfHrlEA0NtWnPbhLSCHG8iDz0g&sa=X&ved=2ahUKEwi1zJrl5NuGAxUlSWwGHSNLCPAQtKgLegQIDBAB&biw=1366&bih=599&dpr=1\")\n"
   ]
  },
  {
   "cell_type": "code",
   "execution_count": 162,
   "id": "20627593-0b46-47c6-9d51-00e186e24c6b",
   "metadata": {},
   "outputs": [
    {
     "data": {
      "text/plain": [
       "<Response [200]>"
      ]
     },
     "execution_count": 162,
     "metadata": {},
     "output_type": "execute_result"
    }
   ],
   "source": [
    "response\n"
   ]
  },
  {
   "cell_type": "code",
   "execution_count": 163,
   "id": "49b975c7-5729-44cd-a1d7-007b3f296f13",
   "metadata": {},
   "outputs": [],
   "source": [
    "soup=BeautifulSoup(response.content,\"html.parser\")"
   ]
  },
  {
   "cell_type": "code",
   "execution_count": 164,
   "id": "4b7a9817",
   "metadata": {},
   "outputs": [
    {
     "data": {
      "text/plain": [
       "<!DOCTYPE html PUBLIC \"-//WAPFORUM//DTD XHTML Mobile 1.0//EN\" \"http://www.wapforum.org/DTD/xhtml-mobile10.dtd\">\n",
       "<html lang=\"en-IN\" xmlns=\"http://www.w3.org/1999/xhtml\"><head><meta content=\"application/xhtml+xml; charset=utf-8\" http-equiv=\"Content-Type\"/><meta content=\"no-cache\" name=\"Cache-Control\"/><title>sippy gill - Google Search</title><style>a{text-decoration:none;color:inherit}a:hover{text-decoration:underline}a img{border:0}body{font-family:arial,sans-serif;padding:8px;margin:0 auto;max-width:700px;min-width:240px;}.FbhRzb{border-left:thin solid #dadce0;border-right:thin solid #dadce0;border-top:thin solid #dadce0;height:40px;overflow:hidden}.n692Zd{margin-bottom:10px}.cvifge{height:40px;border-spacing:0}.QvGUP{height:40px;padding:0 8px 0 8px;vertical-align:top}.O4cRJf{height:40px;width:100%;padding:0;padding-right:14px}.O1ePr{height:40px;padding:0;vertical-align:top}.kgJEQe{height:36px;width:98px;vertical-align:top;margin-top:4px}.lXLRf{vertical-align:top}.MhzMZd{border:0;vertical-align:middle;font-size:14px;height:40px;padding:0;width:100%;padding-left:14px}.xB0fq{height:40px;border:none;font-size:14px;background-color:#1a73e8;color:#fff;padding:0 14px;margin:0;vertical-align:top;cursor:pointer}.xB0fq:focus{border:1px solid #1a73e8}.M7pB2{border:thin solid #dadce0;margin:0 0 3px 0;font-size:13px;font-weight:500;height:40px}.euZec{width:100%;height:40px;text-align:center;border-spacing:0}table.euZec td{padding:0;width:25%}.QIqI7{display:inline-block;padding-top:4px;font-weight:bold;color:#4285f4}.EY24We{border-bottom:2px solid #4285f4}.CsQyDc{display:inline-block;color:#70757a}.TuS8Ad{font-size:14px}.HddGcc{padding:8px;color:#70757a}.dzp8ae{font-weight:bold;color:#3c4043}.rEM8G{color:#70757a}.bookcf{table-layout:fixed;width:100%;border-spacing:0}.InWNIe{text-align:center}.uZgmoc{border:thin solid #dadce0;color:#70757a;font-size:14px;text-align:center;table-layout:fixed;width:100%}.frGj1b{display:block;padding:16px 0 12px 0;width:100%}.BnJWBc{text-align:center;padding:6px 0 13px 0;height:35px}.e3goi{vertical-align:top;padding:0;height:180px}.GpQGbf{margin:auto;border-collapse:collapse;border-spacing:0;width:100%}</style></head><body><style>.X6ZCif{color:#202124;font-size:11px;line-height:16px;display:inline-block;padding-top:2px;overflow:hidden;padding-bottom:4px;width:100%}.TwVfHd{border-radius:16px;border:thin solid #dadce0;display:inline-block;padding:8px 8px;margin-right:8px;margin-bottom:4px}.yekiAe{background-color:#dadce0}.jjVJ4e{width:100%}.ezO2md{border:thin solid #dadce0;padding:16px 14px 12px 14px;margin-bottom:10px;font-family:arial,sans-serif}.lIMUZd{font-family:arial,sans-serif}.RntSmf{border-spacing:0}.lgD2Tc{width:100%}.SpelHe{text-align:center}.SpelHe{position:relative}.kCmkOe{position:relative}.kCmkOe{width:162px;height:140px;line-height:140px;overflow:'hidden';text-align:center}.DS1iW{text-align:center;margin:auto;vertical-align:middle;max-width:162px;max-height:140px}.AlD19d{padding-top:2px;padding-bottom:8px;}.fYyStc{word-break:break-word}.ynsChf{display:block;white-space:nowrap;overflow:hidden;text-overflow:ellipsis}.Fj3V3b{color:#1967d2;font-size:14px;line-height:20px}.FrIlee{color:#202124;font-size:11px;line-height:16px}.F9iS2e{color:#70757a;font-size:11px;line-height:16px}.WMQ2Le{color:#70757a;font-size:12px;line-height:16px}.x3G5ab{color:#202124;font-size:12px;line-height:16px}.fuLhoc{color:#1967d2;font-size:16px;line-height:20px}.epoveb{font-size:24px;line-height:28px;font-weight:400;color:#202124}.dXDvrc{color:#0d652d;font-size:14px;line-height:20px;word-wrap:break-word}.dloBPe{font-weight:bold}.YVIcad{color:#70757a}.JkVVdd{color:#ea4335}.oXZRFd{color:#ea4335}.MQHtg{color:#fbbc04}.pyMRrb{color:#1e8e3e}.EtTZid{color:#1e8e3e}.M3vVJe{color:#1967d2}.qXLe6d{display:block}.NHQNef{font-style:italic}.Cb8Z7c{white-space:pre}a.ZWRArf{text-decoration:none}a .CVA68e:hover{text-decoration:underline}</style><div class=\"n692Zd\"><div class=\"BnJWBc\"><a class=\"lXLRf\" href=\"/?sa=X&amp;sca_esv=0ab82018341e5395&amp;biw=1366&amp;bih=599&amp;output=images&amp;ie=UTF-8&amp;tbm=isch&amp;ved=0ahUKEwjmsOya6NuGAxWc4jgGHRzzDZsQPAgC\"><img alt=\"Google\" class=\"kgJEQe\" src=\"/images/branding/searchlogo/1x/googlelogo_desk_heirloom_color_150x55dp.gif\"/></a></div><div class=\"FbhRzb\"><form action=\"/search\"><input name=\"sca_esv\" type=\"hidden\" value=\"0ab82018341e5395\"/><input name=\"biw\" type=\"hidden\" value=\"1366\"/><input name=\"bih\" type=\"hidden\" value=\"599\"/><input name=\"ie\" type=\"hidden\" value=\"ISO-8859-1\"/><input name=\"tbm\" type=\"hidden\" value=\"isch\"/><input name=\"oq\" type=\"hidden\"/><input name=\"aqs\" type=\"hidden\"/><table class=\"cvifge\"><tr><td class=\"O4cRJf\"><input class=\"MhzMZd\" name=\"q\" type=\"text\" value=\"sippy gill\"/></td><td class=\"O1ePr\"><input class=\"xB0fq\" type=\"submit\" value=\"Search\"/></td></tr></table></form></div><div class=\"M7pB2\"><table class=\"euZec\"><tbody><tr><td><a class=\"CsQyDc\" href=\"/search?q=sippy+gill&amp;sca_esv=0ab82018341e5395&amp;biw=1366&amp;bih=599&amp;ie=UTF-8&amp;source=lnms&amp;fbs=AEQNm0AMrUEM0u25RSHSP2GXBv1FqRTJXslv5T9cWPShXuZK-unDRtidhDD6MO07O664cf3rzCkRGzT6TOmIkWN6z59BEI_sG_WvMHTpzIDOeN0PG5PbQE-fUxh_CRmIjIVTMPZLqRLt8LEJmd-JeyXMTy_SsVO4Ripm82z6vpZhP9tO4TJ_Xc2C9SbcBfqKU5SUBcd-NfHrlEA0NtWnPbhLSCHG8iDz0g&amp;sa=X&amp;ved=0ahUKEwjmsOya6NuGAxWc4jgGHRzzDZsQ_AUIBCgA\">ALL</a></td><td><a class=\"CsQyDc\" href=\"/search?q=sippy+gill&amp;sca_esv=0ab82018341e5395&amp;biw=1366&amp;bih=599&amp;ie=UTF-8&amp;tbm=vid&amp;source=lnms&amp;fbs=AEQNm0AMrUEM0u25RSHSP2GXBv1FqRTJXslv5T9cWPShXuZK-unDRtidhDD6MO07O664cf3rzCkRGzT6TOmIkWN6z59BEI_sG_WvMHTpzIDOeN0PG5PbQE-fUxh_CRmIjIVTMPZLqRLt8LEJmd-JeyXMTy_SsVO4Ripm82z6vpZhP9tO4TJ_Xc2C9SbcBfqKU5SUBcd-NfHrlEA0NtWnPbhLSCHG8iDz0g&amp;sa=X&amp;ved=0ahUKEwjmsOya6NuGAxWc4jgGHRzzDZsQ_AUIBSgB\">VIDEOS</a></td><td class=\"EY24We\"><span class=\"QIqI7\">IMAGES</span></td><td><a class=\"CsQyDc\" href=\"/search?q=sippy+gill&amp;sca_esv=0ab82018341e5395&amp;biw=1366&amp;bih=599&amp;ie=UTF-8&amp;tbm=nws&amp;source=lnms&amp;fbs=AEQNm0AMrUEM0u25RSHSP2GXBv1FqRTJXslv5T9cWPShXuZK-unDRtidhDD6MO07O664cf3rzCkRGzT6TOmIkWN6z59BEI_sG_WvMHTpzIDOeN0PG5PbQE-fUxh_CRmIjIVTMPZLqRLt8LEJmd-JeyXMTy_SsVO4Ripm82z6vpZhP9tO4TJ_Xc2C9SbcBfqKU5SUBcd-NfHrlEA0NtWnPbhLSCHG8iDz0g&amp;sa=X&amp;ved=0ahUKEwjmsOya6NuGAxWc4jgGHRzzDZsQ_AUIBygD\">NEWS</a></td></tr></tbody></table></div></div><div class=\"X6ZCif\"><a class=\"TwVfHd\" href=\"/search?sca_esv=0ab82018341e5395&amp;biw=1366&amp;bih=599&amp;ie=UTF-8&amp;tbm=isch&amp;q=sippy+gill&amp;chips=q:sippy+gill,g_1:wallpaper&amp;sa=X&amp;ved=0ahUKEwjmsOya6NuGAxWc4jgGHRzzDZsQ4lYICygA\">wallpaper</a><a class=\"TwVfHd\" href=\"/search?sca_esv=0ab82018341e5395&amp;biw=1366&amp;bih=599&amp;ie=UTF-8&amp;tbm=isch&amp;q=sippy+gill&amp;chips=q:sippy+gill,g_1:hairstyle&amp;sa=X&amp;ved=0ahUKEwjmsOya6NuGAxWc4jgGHRzzDZsQ4lYIDCgB\">hairstyle</a><a class=\"TwVfHd\" href=\"/search?sca_esv=0ab82018341e5395&amp;biw=1366&amp;bih=599&amp;ie=UTF-8&amp;tbm=isch&amp;q=sippy+gill&amp;chips=q:sippy+gill,g_1:gym&amp;sa=X&amp;ved=0ahUKEwjmsOya6NuGAxWc4jgGHRzzDZsQ4lYIDSgC\">gym</a><a class=\"TwVfHd\" href=\"/search?sca_esv=0ab82018341e5395&amp;biw=1366&amp;bih=599&amp;ie=UTF-8&amp;tbm=isch&amp;q=sippy+gill&amp;chips=q:sippy+gill,g_1:singer&amp;sa=X&amp;ved=0ahUKEwjmsOya6NuGAxWc4jgGHRzzDZsQ4lYIDigD\">singer</a><a class=\"TwVfHd\" href=\"/search?sca_esv=0ab82018341e5395&amp;biw=1366&amp;bih=599&amp;ie=UTF-8&amp;tbm=isch&amp;q=sippy+gill&amp;chips=q:sippy+gill,g_1:tiger&amp;sa=X&amp;ved=0ahUKEwjmsOya6NuGAxWc4jgGHRzzDZsQ4lYIDygE\">tiger</a><a class=\"TwVfHd\" href=\"/search?sca_esv=0ab82018341e5395&amp;biw=1366&amp;bih=599&amp;ie=UTF-8&amp;tbm=isch&amp;q=sippy+gill&amp;chips=q:sippy+gill,g_1:biography&amp;sa=X&amp;ved=0ahUKEwjmsOya6NuGAxWc4jgGHRzzDZsQ4lYIECgF\">biography</a><a class=\"TwVfHd\" href=\"/search?sca_esv=0ab82018341e5395&amp;biw=1366&amp;bih=599&amp;ie=UTF-8&amp;tbm=isch&amp;q=sippy+gill&amp;chips=q:sippy+gill,g_1:facebook&amp;sa=X&amp;ved=0ahUKEwjmsOya6NuGAxWc4jgGHRzzDZsQ4lYIESgG\">facebook</a><a class=\"TwVfHd\" href=\"/search?sca_esv=0ab82018341e5395&amp;biw=1366&amp;bih=599&amp;ie=UTF-8&amp;tbm=isch&amp;q=sippy+gill&amp;chips=q:sippy+gill,g_1:style&amp;sa=X&amp;ved=0ahUKEwjmsOya6NuGAxWc4jgGHRzzDZsQ4lYIEigH\">style</a><a class=\"TwVfHd\" href=\"/search?sca_esv=0ab82018341e5395&amp;biw=1366&amp;bih=599&amp;ie=UTF-8&amp;tbm=isch&amp;q=sippy+gill&amp;chips=q:sippy+gill,g_1:instagram&amp;sa=X&amp;ved=0ahUKEwjmsOya6NuGAxWc4jgGHRzzDZsQ4lYIEygI\">instagram</a><a class=\"TwVfHd\" href=\"/search?sca_esv=0ab82018341e5395&amp;biw=1366&amp;bih=599&amp;ie=UTF-8&amp;tbm=isch&amp;q=sippy+gill&amp;chips=q:sippy+gill,g_1:house&amp;sa=X&amp;ved=0ahUKEwjmsOya6NuGAxWc4jgGHRzzDZsQ4lYIFCgJ\">house</a></div><div><table class=\"GpQGbf\"><tr><td align=\"center\" class=\"e3goi\"><div class=\"jjVJ4e\"> <div> <div class=\"lIMUZd\"><div><table class=\"RntSmf\"><tr><td><a href=\"/url?q=https://m.youtube.com/channel/UCJPVyiEIWsecfAMc7mvUqHg&amp;sa=U&amp;ved=2ahUKEwjmsOya6NuGAxWc4jgGHRzzDZsQqoUBegQIAhAB&amp;usg=AOvVaw0xHL1LO1_78hOnUFl1XVhT\"><div class=\"kCmkOe\"><img alt=\"\" class=\"DS1iW\" src=\"https://encrypted-tbn0.gstatic.com/images?q=tbn:ANd9GcQ3x8cWl6De5Aaq7t_HIG1ag2w5krFmatWgFCWIernpZ2CKoNHE5cUDFQHF1OI&amp;s\"/></div></a></td></tr><tr><td><a href=\"/url?q=https://m.youtube.com/channel/UCJPVyiEIWsecfAMc7mvUqHg&amp;sa=U&amp;ved=2ahUKEwjmsOya6NuGAxWc4jgGHRzzDZsQr4kDegQIAhAC&amp;usg=AOvVaw3TGjSpcqYwIcQWDWbH_uBH\"><div class=\"AlD19d\"> <span class=\"qXLe6d x3G5ab\"> <span class=\"fYyStc\">Sippy Gill - YouTube</span> </span> <span class=\"qXLe6d F9iS2e\"> <span class=\"fYyStc\">m.youtube.com</span> </span> </div></a></td></tr></table></div></div> </div> </div></td><td align=\"center\" class=\"e3goi\"><div class=\"jjVJ4e\"> <div> <div class=\"lIMUZd\"><div><table class=\"RntSmf\"><tr><td><a href=\"/url?q=https://gaana.com/playlist/gaana-dj-best-of-sippy-gill&amp;sa=U&amp;ved=2ahUKEwjmsOya6NuGAxWc4jgGHRzzDZsQqoUBegQIExAB&amp;usg=AOvVaw0lA3WHlw6oTp2PSKfKC4cN\"><div class=\"kCmkOe\"><img alt=\"\" class=\"DS1iW\" src=\"https://encrypted-tbn0.gstatic.com/images?q=tbn:ANd9GcSfaO9pXO2zmPgXBgyqva7YLvuoWfYENURucxwRGYsNdegpmUE5dGoG9uVvDhE&amp;s\"/></div></a></td></tr><tr><td><a href=\"/url?q=https://gaana.com/playlist/gaana-dj-best-of-sippy-gill&amp;sa=U&amp;ved=2ahUKEwjmsOya6NuGAxWc4jgGHRzzDZsQr4kDegQIExAC&amp;usg=AOvVaw3lsZRoaE1su7LvgaFKihMv\"><div class=\"AlD19d\"> <span class=\"qXLe6d x3G5ab\"> <span class=\"fYyStc\">Best of Sippy Gill Music...</span> </span> <span class=\"qXLe6d F9iS2e\"> <span class=\"fYyStc\">gaana.com</span> </span> </div></a></td></tr></table></div></div> </div> </div></td><td align=\"center\" class=\"e3goi\"><div class=\"jjVJ4e\"> <div> <div class=\"lIMUZd\"><div><table class=\"RntSmf\"><tr><td><a href=\"/url?q=https://it-it.facebook.com/SippyGill/photos/on-set-of-new-song/1500733089982130/&amp;sa=U&amp;ved=2ahUKEwjmsOya6NuGAxWc4jgGHRzzDZsQqoUBegQIEhAB&amp;usg=AOvVaw0EszVEbyzXm3_Bo12VYoM4\"><div class=\"kCmkOe\"><img alt=\"\" class=\"DS1iW\" src=\"https://encrypted-tbn0.gstatic.com/images?q=tbn:ANd9GcRnLm2SYvnr37h30MQ-SKaPd4eeIhBIEbcucnvl2OOyrtDe6yog3zHUuamXzw&amp;s\"/></div></a></td></tr><tr><td><a href=\"/url?q=https://it-it.facebook.com/SippyGill/photos/on-set-of-new-song/1500733089982130/&amp;sa=U&amp;ved=2ahUKEwjmsOya6NuGAxWc4jgGHRzzDZsQr4kDegQIEhAC&amp;usg=AOvVaw1qsHN2WnbEu2_xZsCMkYy2\"><div class=\"AlD19d\"> <span class=\"qXLe6d x3G5ab\"> <span class=\"fYyStc\">Sippy Gill - On set of new...</span> </span> <span class=\"qXLe6d F9iS2e\"> <span class=\"fYyStc\">it-it.facebook.com</span> </span> </div></a></td></tr></table></div></div> </div> </div></td><td align=\"center\" class=\"e3goi\"><div class=\"jjVJ4e\"> <div> <div class=\"lIMUZd\"><div><table class=\"RntSmf\"><tr><td><a href=\"/url?q=https://www.instagram.com/sippygillofficial/reel/CsacFLusRAC/&amp;sa=U&amp;ved=2ahUKEwjmsOya6NuGAxWc4jgGHRzzDZsQqoUBegQIDBAB&amp;usg=AOvVaw3PMD1te0kJPMAVHXLeSE0m\"><div class=\"kCmkOe\"><img alt=\"\" class=\"DS1iW\" src=\"https://encrypted-tbn0.gstatic.com/images?q=tbn:ANd9GcTO7aCMLqNGuW66nQNhfNWK-SR7e1faS-TOUVtiQ1DFaAlBg82t55NPlrNBUg&amp;s\"/></div></a></td></tr><tr><td><a href=\"/url?q=https://www.instagram.com/sippygillofficial/reel/CsacFLusRAC/&amp;sa=U&amp;ved=2ahUKEwjmsOya6NuGAxWc4jgGHRzzDZsQr4kDegQIDBAC&amp;usg=AOvVaw0GmMu_0xgQ3Xn-a-7CGY_T\"><div class=\"AlD19d\"> <span class=\"qXLe6d x3G5ab\"> <span class=\"fYyStc\">Sippy Gill | ❤ ਕੁੜਤੇ ਪਜਾਮੇ...</span> </span> <span class=\"qXLe6d F9iS2e\"> <span class=\"fYyStc\">www.instagram.com</span> </span> </div></a></td></tr></table></div></div> </div> </div></td></tr><tr><td align=\"center\" class=\"e3goi\"><div class=\"jjVJ4e\"> <div> <div class=\"lIMUZd\"><div><table class=\"RntSmf\"><tr><td><a href=\"/url?q=https://www.facebook.com/819721638083282/photos/3535939573128128/&amp;sa=U&amp;ved=2ahUKEwjmsOya6NuGAxWc4jgGHRzzDZsQqoUBegQIERAB&amp;usg=AOvVaw0Qz945Bw7DdgO8dU0Es5jh\"><div class=\"kCmkOe\"><img alt=\"\" class=\"DS1iW\" src=\"https://encrypted-tbn0.gstatic.com/images?q=tbn:ANd9GcQ8Ty5c6c8LadqngT3YsK8X5rpT6opd40We5FLTSBuzH9ETuu_46qK8GG7B5W4&amp;s\"/></div></a></td></tr><tr><td><a href=\"/url?q=https://www.facebook.com/819721638083282/photos/3535939573128128/&amp;sa=U&amp;ved=2ahUKEwjmsOya6NuGAxWc4jgGHRzzDZsQr4kDegQIERAC&amp;usg=AOvVaw1yIIa0FgsmUdV5IzHRpN-c\"><div class=\"AlD19d\"> <span class=\"qXLe6d x3G5ab\"> <span class=\"fYyStc\">Sippy Gill - Sippy Gill...</span> </span> <span class=\"qXLe6d F9iS2e\"> <span class=\"fYyStc\">www.facebook.com</span> </span> </div></a></td></tr></table></div></div> </div> </div></td><td align=\"center\" class=\"e3goi\"><div class=\"jjVJ4e\"> <div> <div class=\"lIMUZd\"><div><table class=\"RntSmf\"><tr><td><a href=\"/url?q=https://www.instagram.com/sippygillofficial/reel/C1tzq7Yyl8X/&amp;sa=U&amp;ved=2ahUKEwjmsOya6NuGAxWc4jgGHRzzDZsQqoUBegQIEBAB&amp;usg=AOvVaw0G1fl1Fsr6NU77RlVfvXIM\"><div class=\"kCmkOe\"><img alt=\"\" class=\"DS1iW\" src=\"https://encrypted-tbn0.gstatic.com/images?q=tbn:ANd9GcTFIakSYT34ulob4a58WDcUpohO4QZEWrQc-RmZm_m2193YnUFaBSG0DRfWIrE&amp;s\"/></div></a></td></tr><tr><td><a href=\"/url?q=https://www.instagram.com/sippygillofficial/reel/C1tzq7Yyl8X/&amp;sa=U&amp;ved=2ahUKEwjmsOya6NuGAxWc4jgGHRzzDZsQr4kDegQIEBAC&amp;usg=AOvVaw1K_eEtby5arTV2YmDqhwl-\"><div class=\"AlD19d\"> <span class=\"qXLe6d x3G5ab\"> <span class=\"fYyStc\">Sippy Gill | ਜਾਕੇ ਸਹੇਲੀ...</span> </span> <span class=\"qXLe6d F9iS2e\"> <span class=\"fYyStc\">www.instagram.com</span> </span> </div></a></td></tr></table></div></div> </div> </div></td><td align=\"center\" class=\"e3goi\"><div class=\"jjVJ4e\"> <div> <div class=\"lIMUZd\"><div><table class=\"RntSmf\"><tr><td><a href=\"/url?q=https://www.youtube.com/watch%3Fv%3DTSqxarbHqHA&amp;sa=U&amp;ved=2ahUKEwjmsOya6NuGAxWc4jgGHRzzDZsQqoUBegQICxAB&amp;usg=AOvVaw00CZ2wPi9Z-nlBjcRXo0T3\"><div class=\"kCmkOe\"><img alt=\"\" class=\"DS1iW\" src=\"https://encrypted-tbn0.gstatic.com/images?q=tbn:ANd9GcSVjRPLayg0BcKpOuvAroXFD-UzdpmbmjZ19bLB3HQGWwD-a8O2EsVtWm6Njww&amp;s\"/></div></a></td></tr><tr><td><a href=\"/url?q=https://www.youtube.com/watch%3Fv%3DTSqxarbHqHA&amp;sa=U&amp;ved=2ahUKEwjmsOya6NuGAxWc4jgGHRzzDZsQr4kDegQICxAC&amp;usg=AOvVaw3vhwQ-wckzOSZB-04vTyqI\"><div class=\"AlD19d\"> <span class=\"qXLe6d x3G5ab\"> <span class=\"fYyStc\">Anything For You ||...</span> </span> <span class=\"qXLe6d F9iS2e\"> <span class=\"fYyStc\">www.youtube.com</span> </span> </div></a></td></tr></table></div></div> </div> </div></td><td align=\"center\" class=\"e3goi\"><div class=\"jjVJ4e\"> <div> <div class=\"lIMUZd\"><div><table class=\"RntSmf\"><tr><td><a href=\"/url?q=https://in.pinterest.com/pin/sippy-gill-pics--625859679477847088/&amp;sa=U&amp;ved=2ahUKEwjmsOya6NuGAxWc4jgGHRzzDZsQqoUBegQIDhAB&amp;usg=AOvVaw3XFt_fdVvI0yU6cUlp4-Km\"><div class=\"kCmkOe\"><img alt=\"\" class=\"DS1iW\" src=\"https://encrypted-tbn0.gstatic.com/images?q=tbn:ANd9GcS4Q5O2G_Fzsuj77rDZwgZU_lQxrhaYL4oDjhQ4mfibBUe0QgPBqYm_bnODqA&amp;s\"/></div></a></td></tr><tr><td><a href=\"/url?q=https://in.pinterest.com/pin/sippy-gill-pics--625859679477847088/&amp;sa=U&amp;ved=2ahUKEwjmsOya6NuGAxWc4jgGHRzzDZsQr4kDegQIDhAC&amp;usg=AOvVaw1FgAAmkWjo71YcddcKqDjV\"><div class=\"AlD19d\"> <span class=\"qXLe6d x3G5ab\"> <span class=\"fYyStc\">Sippy Gill Pic's |...</span> </span> <span class=\"qXLe6d F9iS2e\"> <span class=\"fYyStc\">in.pinterest.com</span> </span> </div></a></td></tr></table></div></div> </div> </div></td></tr><tr><td align=\"center\" class=\"e3goi\"><div class=\"jjVJ4e\"> <div> <div class=\"lIMUZd\"><div><table class=\"RntSmf\"><tr><td><a href=\"/url?q=https://wynk.in/music/artist/sippy-gill/wa_16312993&amp;sa=U&amp;ved=2ahUKEwjmsOya6NuGAxWc4jgGHRzzDZsQqoUBegQIChAB&amp;usg=AOvVaw0AYY5ixfreO2CX9_etQpX4\"><div class=\"kCmkOe\"><img alt=\"\" class=\"DS1iW\" src=\"https://encrypted-tbn0.gstatic.com/images?q=tbn:ANd9GcTV8MJFw7fy6tyin3Ejiy6itSLuEdrwJpsHHMjDvuYTDCB24kWJxwOFwk1QYA&amp;s\"/></div></a></td></tr><tr><td><a href=\"/url?q=https://wynk.in/music/artist/sippy-gill/wa_16312993&amp;sa=U&amp;ved=2ahUKEwjmsOya6NuGAxWc4jgGHRzzDZsQr4kDegQIChAC&amp;usg=AOvVaw3SdHQakh9RLEcIofXBubJ9\"><div class=\"AlD19d\"> <span class=\"qXLe6d x3G5ab\"> <span class=\"fYyStc\">Sippy Gill Songs - Play &amp;...</span> </span> <span class=\"qXLe6d F9iS2e\"> <span class=\"fYyStc\">wynk.in</span> </span> </div></a></td></tr></table></div></div> </div> </div></td><td align=\"center\" class=\"e3goi\"><div class=\"jjVJ4e\"> <div> <div class=\"lIMUZd\"><div><table class=\"RntSmf\"><tr><td><a href=\"/url?q=https://gaana.com/artist/sippy-gill/&amp;sa=U&amp;ved=2ahUKEwjmsOya6NuGAxWc4jgGHRzzDZsQqoUBegQIDxAB&amp;usg=AOvVaw0EknIZPUMSMXA758v65ntS\"><div class=\"kCmkOe\"><img alt=\"\" class=\"DS1iW\" src=\"https://encrypted-tbn0.gstatic.com/images?q=tbn:ANd9GcRKxzcwnPqKBIy7ybaMF7kTL0_9qecoJrOd8y4XenJwzO-njsXz6ZnbdzZydTs&amp;s\"/></div></a></td></tr><tr><td><a href=\"/url?q=https://gaana.com/artist/sippy-gill/&amp;sa=U&amp;ved=2ahUKEwjmsOya6NuGAxWc4jgGHRzzDZsQr4kDegQIDxAC&amp;usg=AOvVaw37Pjl1DMsP4ffrU9WPRbkV\"><div class=\"AlD19d\"> <span class=\"qXLe6d x3G5ab\"> <span class=\"fYyStc\">Sippy Gill Songs: Listen...</span> </span> <span class=\"qXLe6d F9iS2e\"> <span class=\"fYyStc\">gaana.com</span> </span> </div></a></td></tr></table></div></div> </div> </div></td><td align=\"center\" class=\"e3goi\"><div class=\"jjVJ4e\"> <div> <div class=\"lIMUZd\"><div><table class=\"RntSmf\"><tr><td><a href=\"/url?q=https://www.hindustantimes.com/cities/chandigarh-news/punjabi-singer-sippy-gill-gets-notice-from-animal-welfare-board-101627375148935.html&amp;sa=U&amp;ved=2ahUKEwjmsOya6NuGAxWc4jgGHRzzDZsQqoUBegQIDRAB&amp;usg=AOvVaw20R-NveWMTB7XKfWrF71J3\"><div class=\"kCmkOe\"><img alt=\"\" class=\"DS1iW\" src=\"https://encrypted-tbn0.gstatic.com/images?q=tbn:ANd9GcT5XyZbGDbZPV8YYOJyqVHtXyOr1FwaWUftPSJZWJp6HDvZlW3iUL6x7iebvGE&amp;s\"/></div></a></td></tr><tr><td><a href=\"/url?q=https://www.hindustantimes.com/cities/chandigarh-news/punjabi-singer-sippy-gill-gets-notice-from-animal-welfare-board-101627375148935.html&amp;sa=U&amp;ved=2ahUKEwjmsOya6NuGAxWc4jgGHRzzDZsQr4kDegQIDRAC&amp;usg=AOvVaw2YIz4cMOU4HwFasi8FoJgb\"><div class=\"AlD19d\"> <span class=\"qXLe6d x3G5ab\"> <span class=\"fYyStc\">Punjabi singer Sippy Gill...</span> </span> <span class=\"qXLe6d F9iS2e\"> <span class=\"fYyStc\">www.hindustantimes.com</span> </span> </div></a></td></tr></table></div></div> </div> </div></td><td align=\"center\" class=\"e3goi\"><div class=\"jjVJ4e\"> <div> <div class=\"lIMUZd\"><div><table class=\"RntSmf\"><tr><td><a href=\"/url?q=https://www.jiosaavn.com/artist/sippy-gill-songs/xKpyW5XZYbA_&amp;sa=U&amp;ved=2ahUKEwjmsOya6NuGAxWc4jgGHRzzDZsQqoUBegQICRAB&amp;usg=AOvVaw0ab5sv5N9o9JrFRW_5RAmA\"><div class=\"kCmkOe\"><img alt=\"\" class=\"DS1iW\" src=\"https://encrypted-tbn0.gstatic.com/images?q=tbn:ANd9GcRy6kZB5lwK2F5dU5SDO9XRHxZfO3H3B1L6RMw-5RIzkxBmquMKNRnamK4utII&amp;s\"/></div></a></td></tr><tr><td><a href=\"/url?q=https://www.jiosaavn.com/artist/sippy-gill-songs/xKpyW5XZYbA_&amp;sa=U&amp;ved=2ahUKEwjmsOya6NuGAxWc4jgGHRzzDZsQr4kDegQICRAC&amp;usg=AOvVaw0javengXgLEI3HKNO0r4di\"><div class=\"AlD19d\"> <span class=\"qXLe6d x3G5ab\"> <span class=\"fYyStc\">JioSaavn - Listen to New &amp;...</span> </span> <span class=\"qXLe6d F9iS2e\"> <span class=\"fYyStc\">www.jiosaavn.com</span> </span> </div></a></td></tr></table></div></div> </div> </div></td></tr><tr><td align=\"center\" class=\"e3goi\"><div class=\"jjVJ4e\"> <div> <div class=\"lIMUZd\"><div><table class=\"RntSmf\"><tr><td><a href=\"/url?q=https://www.instagram.com/p/ChP1ysqJh5b/&amp;sa=U&amp;ved=2ahUKEwjmsOya6NuGAxWc4jgGHRzzDZsQqoUBegQIARAB&amp;usg=AOvVaw0tiFIhNGA-QPPQBddZJ-zf\"><div class=\"kCmkOe\"><img alt=\"\" class=\"DS1iW\" src=\"https://encrypted-tbn0.gstatic.com/images?q=tbn:ANd9GcQ6Avf0n4Jtkc8U3rhCxmfcGrDCDmoM0uUmkEKWrCgCfSuPZtev9St_ydOr7w&amp;s\"/></div></a></td></tr><tr><td><a href=\"/url?q=https://www.instagram.com/p/ChP1ysqJh5b/&amp;sa=U&amp;ved=2ahUKEwjmsOya6NuGAxWc4jgGHRzzDZsQr4kDegQIARAC&amp;usg=AOvVaw1BqnJr3NF1NCiV0NHGUZ6R\"><div class=\"AlD19d\"> <span class=\"qXLe6d x3G5ab\"> <span class=\"fYyStc\">Sippy Gill | ਤੈਨੂੰ ਪਤਾ ਤੇਰੇ...</span> </span> <span class=\"qXLe6d F9iS2e\"> <span class=\"fYyStc\">www.instagram.com</span> </span> </div></a></td></tr></table></div></div> </div> </div></td><td align=\"center\" class=\"e3goi\"><div class=\"jjVJ4e\"> <div> <div class=\"lIMUZd\"><div><table class=\"RntSmf\"><tr><td><a href=\"/url?q=https://www.flickr.com/photos/144733034%40N04/29130123430&amp;sa=U&amp;ved=2ahUKEwjmsOya6NuGAxWc4jgGHRzzDZsQqoUBegQICBAB&amp;usg=AOvVaw2A7r5Y-LM60NHz7DBYnK-f\"><div class=\"kCmkOe\"><img alt=\"\" class=\"DS1iW\" src=\"https://encrypted-tbn0.gstatic.com/images?q=tbn:ANd9GcQXf3gm4D4gMh7BpIFc3_FLaK8plcd2CabxtVUQpRiHhwGgnKylKFsdAo7cdfM&amp;s\"/></div></a></td></tr><tr><td><a href=\"/url?q=https://www.flickr.com/photos/144733034%40N04/29130123430&amp;sa=U&amp;ved=2ahUKEwjmsOya6NuGAxWc4jgGHRzzDZsQr4kDegQICBAC&amp;usg=AOvVaw04ZqG2zTKFHe3vBug_6PIB\"><div class=\"AlD19d\"> <span class=\"qXLe6d x3G5ab\"> <span class=\"fYyStc\">Sippy Gill ( Singer, Actor...</span> </span> <span class=\"qXLe6d F9iS2e\"> <span class=\"fYyStc\">www.flickr.com</span> </span> </div></a></td></tr></table></div></div> </div> </div></td><td align=\"center\" class=\"e3goi\"><div class=\"jjVJ4e\"> <div> <div class=\"lIMUZd\"><div><table class=\"RntSmf\"><tr><td><a href=\"/url?q=https://soundcloud.com/vickmusic/tiger-remix-stop-snitchin&amp;sa=U&amp;ved=2ahUKEwjmsOya6NuGAxWc4jgGHRzzDZsQqoUBegQIBxAB&amp;usg=AOvVaw1MucJ-Kx69c7E-ROo9FgXs\"><div class=\"kCmkOe\"><img alt=\"\" class=\"DS1iW\" src=\"https://encrypted-tbn0.gstatic.com/images?q=tbn:ANd9GcRqhBmpDNdYiIo8wfzzSdj4wY9CCvSxc1Eq8dIWKVCSs_6WDWqsqko41wkSQzA&amp;s\"/></div></a></td></tr><tr><td><a href=\"/url?q=https://soundcloud.com/vickmusic/tiger-remix-stop-snitchin&amp;sa=U&amp;ved=2ahUKEwjmsOya6NuGAxWc4jgGHRzzDZsQr4kDegQIBxAC&amp;usg=AOvVaw3xyqSYtJoRf4AdctWZMfz7\"><div class=\"AlD19d\"> <span class=\"qXLe6d x3G5ab\"> <span class=\"fYyStc\">Stream Tiger Alive - Sippy...</span> </span> <span class=\"qXLe6d F9iS2e\"> <span class=\"fYyStc\">soundcloud.com</span> </span> </div></a></td></tr></table></div></div> </div> </div></td><td align=\"center\" class=\"e3goi\"><div class=\"jjVJ4e\"> <div> <div class=\"lIMUZd\"><div><table class=\"RntSmf\"><tr><td><a href=\"/url?q=https://www.youtube.com/watch%3Fv%3DTSqxarbHqHA&amp;sa=U&amp;ved=2ahUKEwjmsOya6NuGAxWc4jgGHRzzDZsQqoUBegQIAxAB&amp;usg=AOvVaw2wFV6Rw6AQCJt8VdUbBUBp\"><div class=\"kCmkOe\"><img alt=\"\" class=\"DS1iW\" src=\"https://encrypted-tbn0.gstatic.com/images?q=tbn:ANd9GcSVm9kaTBqNaQ1JP_FOZWxwgxrmjJGtny6rZJceSC1hKBlb6XV-VvQzO39P&amp;s\"/></div></a></td></tr><tr><td><a href=\"/url?q=https://www.youtube.com/watch%3Fv%3DTSqxarbHqHA&amp;sa=U&amp;ved=2ahUKEwjmsOya6NuGAxWc4jgGHRzzDZsQr4kDegQIAxAC&amp;usg=AOvVaw0rBIQ-OMpU3lS0D27GxEAB\"><div class=\"AlD19d\"> <span class=\"qXLe6d x3G5ab\"> <span class=\"fYyStc\">Anything For You ||...</span> </span> <span class=\"qXLe6d F9iS2e\"> <span class=\"fYyStc\">www.youtube.com</span> </span> </div></a></td></tr></table></div></div> </div> </div></td></tr><tr><td align=\"center\" class=\"e3goi\"><div class=\"jjVJ4e\"> <div> <div class=\"lIMUZd\"><div><table class=\"RntSmf\"><tr><td><a href=\"/url?q=https://www.facebook.com/SippyGill/&amp;sa=U&amp;ved=2ahUKEwjmsOya6NuGAxWc4jgGHRzzDZsQqoUBegQIBhAB&amp;usg=AOvVaw010JD8LmqOssQFbUPP4OmJ\"><div class=\"kCmkOe\"><img alt=\"\" class=\"DS1iW\" src=\"https://encrypted-tbn0.gstatic.com/images?q=tbn:ANd9GcSrPzKVoUEPdKTWkFN6UIeRz-x_OLEHCJVODqpCMkZf0hq52ami3v-S4bvRtpA&amp;s\"/></div></a></td></tr><tr><td><a href=\"/url?q=https://www.facebook.com/SippyGill/&amp;sa=U&amp;ved=2ahUKEwjmsOya6NuGAxWc4jgGHRzzDZsQr4kDegQIBhAC&amp;usg=AOvVaw1g0Zeaa66VqdxXGRoJtdS2\"><div class=\"AlD19d\"> <span class=\"qXLe6d x3G5ab\"> <span class=\"fYyStc\">?media_id=100044408080329</span> </span> <span class=\"qXLe6d F9iS2e\"> <span class=\"fYyStc\">www.facebook.com</span> </span> </div></a></td></tr></table></div></div> </div> </div></td><td align=\"center\" class=\"e3goi\"><div class=\"jjVJ4e\"> <div> <div class=\"lIMUZd\"><div><table class=\"RntSmf\"><tr><td><a href=\"/url?q=https://in.bookmyshow.com/person/sippy-gill/38993&amp;sa=U&amp;ved=2ahUKEwjmsOya6NuGAxWc4jgGHRzzDZsQqoUBegQIBBAB&amp;usg=AOvVaw24NUzTLRV8L7T1ZbOceaE7\"><div class=\"kCmkOe\"><img alt=\"\" class=\"DS1iW\" src=\"https://encrypted-tbn0.gstatic.com/images?q=tbn:ANd9GcTOztjD08KIqmQPRY5T_pBO0G_PMbhqaDyoC9G7lHZYepCor0Q-Ma0dHi_tYr8&amp;s\"/></div></a></td></tr><tr><td><a href=\"/url?q=https://in.bookmyshow.com/person/sippy-gill/38993&amp;sa=U&amp;ved=2ahUKEwjmsOya6NuGAxWc4jgGHRzzDZsQr4kDegQIBBAC&amp;usg=AOvVaw2t_WW52F0T9vbHuNXqrhGY\"><div class=\"AlD19d\"> <span class=\"qXLe6d x3G5ab\"> <span class=\"fYyStc\">Sippy Gill - Movies,...</span> </span> <span class=\"qXLe6d F9iS2e\"> <span class=\"fYyStc\">in.bookmyshow.com</span> </span> </div></a></td></tr></table></div></div> </div> </div></td><td align=\"center\" class=\"e3goi\"><div class=\"jjVJ4e\"> <div> <div class=\"lIMUZd\"><div><table class=\"RntSmf\"><tr><td><a href=\"/url?q=https://twitter.com/sippygill&amp;sa=U&amp;ved=2ahUKEwjmsOya6NuGAxWc4jgGHRzzDZsQqoUBegQIABAB&amp;usg=AOvVaw39BVhnNK8vdNLmi6w0VGn9\"><div class=\"kCmkOe\"><img alt=\"\" class=\"DS1iW\" src=\"https://encrypted-tbn0.gstatic.com/images?q=tbn:ANd9GcQ641ywzzgotPwO-R8h8WP_cd3EH2jbapwwL2buQFvPqbhmltboEVOmgijMqfk&amp;s\"/></div></a></td></tr><tr><td><a href=\"/url?q=https://twitter.com/sippygill&amp;sa=U&amp;ved=2ahUKEwjmsOya6NuGAxWc4jgGHRzzDZsQr4kDegQIABAC&amp;usg=AOvVaw2UbI0pG7vMbJErkVYliklB\"><div class=\"AlD19d\"> <span class=\"qXLe6d x3G5ab\"> <span class=\"fYyStc\">Sippy Gill (@SippyGill) / X...</span> </span> <span class=\"qXLe6d F9iS2e\"> <span class=\"fYyStc\">twitter.com</span> </span> </div></a></td></tr></table></div></div> </div> </div></td><td align=\"center\" class=\"e3goi\"><div class=\"jjVJ4e\"> <div> <div class=\"lIMUZd\"><div><table class=\"RntSmf\"><tr><td><a href=\"/url?q=https://www.cinestaan.com/people/sippy-gill-127771&amp;sa=U&amp;ved=2ahUKEwjmsOya6NuGAxWc4jgGHRzzDZsQqoUBegQIBRAB&amp;usg=AOvVaw0UfTdONv5JS47H1lB8UkzD\"><div class=\"kCmkOe\"><img alt=\"\" class=\"DS1iW\" src=\"https://encrypted-tbn0.gstatic.com/images?q=tbn:ANd9GcSa8Z38jIBIf8ZZmLzYpXlJcXIjEY047cZjGRPSk7pqMk4qFypA36nByiYmhA&amp;s\"/></div></a></td></tr><tr><td><a href=\"/url?q=https://www.cinestaan.com/people/sippy-gill-127771&amp;sa=U&amp;ved=2ahUKEwjmsOya6NuGAxWc4jgGHRzzDZsQr4kDegQIBRAC&amp;usg=AOvVaw0_QeWbYGIDxooPsqDezby7\"><div class=\"AlD19d\"> <span class=\"qXLe6d x3G5ab\"> <span class=\"fYyStc\">Sippy Gill movies,...</span> </span> <span class=\"qXLe6d F9iS2e\"> <span class=\"fYyStc\">www.cinestaan.com</span> </span> </div></a></td></tr></table></div></div> </div> </div></td></tr></table></div><table class=\"uZgmoc\"><tbody><td><a class=\"frGj1b\" href=\"/search?q=sippy+gill&amp;sca_esv=0ab82018341e5395&amp;biw=1366&amp;bih=599&amp;ie=UTF-8&amp;tbm=isch&amp;ei=EZhsZqbkBpzF4-EPnOa32Ak&amp;start=20&amp;sa=N\">Next &gt;</a></td></tbody></table><br/><div class=\"TuS8Ad\" data-ved=\"0ahUKEwjmsOya6NuGAxWc4jgGHRzzDZsQpyoIUg\"><style>.VYM29{font-weight:bold}</style><div align=\"center\" class=\"HddGcc\"><span class=\"VYM29\">132103, Haryana</span><span> - </span><span>From your IP address</span><span> - </span><a href=\"/url?q=https://support.google.com/websearch%3Fp%3Dws_settings_location%26hl%3Den-IN&amp;opi=89978449&amp;sa=U&amp;ved=0ahUKEwjmsOya6NuGAxWc4jgGHRzzDZsQty4IUw&amp;usg=AOvVaw1pfGu2xjzbkdscrh0r5PA7\">Learn more</a></div><div align=\"center\"><a class=\"rEM8G\" href=\"/url?q=https://accounts.google.com/ServiceLogin%3Fcontinue%3Dhttps://www.google.com/search%253Fsca_esv%253D0ab82018341e5395%2526sxsrf%253DADLYWIJuA8pmW_AtxfLXXMHPz5GQIjhnfQ:1718391931320%2526q%253Dsippy%252Bgill%2526fbs%253DAEQNm0AMrUEM0u25RSHSP2GXBv1FqRTJXslv5T9cWPShXuZK-unDRtidhDD6MO07O664cf3rzCkRGzT6TOmIkWN6z59BEI_sG_WvMHTpzIDOeN0PG5PbQE-fUxh_CRmIjIVTMPZLqRLt8LEJmd-JeyXMTy_SsVO4Ripm82z6vpZhP9tO4TJ_Xc2C9SbcBfqKU5SUBcd-NfHrlEA0NtWnPbhLSCHG8iDz0g%2526sa%253DX%2526ved%253D2ahUKEwi1zJrl5NuGAxUlSWwGHSNLCPAQtKgLegQIDBAB%2526biw%253D1366%2526bih%253D599%2526dpr%253D1%2526tbm%253Disch%26hl%3Den&amp;opi=89978449&amp;sa=U&amp;ved=0ahUKEwjmsOya6NuGAxWc4jgGHRzzDZsQxs8CCFQ&amp;usg=AOvVaw0do6clzSNl517mmr-w2289\">Sign in</a></div><div><table class=\"bookcf\"><tbody class=\"InWNIe\"><tr><td><a class=\"rEM8G\" href=\"https://www.google.com/preferences?hl=en&amp;sa=X&amp;ved=0ahUKEwjmsOya6NuGAxWc4jgGHRzzDZsQv5YECFU\">Settings</a></td><td><a class=\"rEM8G\" href=\"https://www.google.com/intl/en_in/policies/privacy/\">Privacy</a></td><td><a class=\"rEM8G\" href=\"https://www.google.com/intl/en_in/policies/terms/\">Terms</a></td></tr></tbody></table></div></div><div> </div></body></html>"
      ]
     },
     "execution_count": 164,
     "metadata": {},
     "output_type": "execute_result"
    }
   ],
   "source": [
    "soup"
   ]
  },
  {
   "cell_type": "code",
   "execution_count": 165,
   "id": "2f364dfc",
   "metadata": {},
   "outputs": [],
   "source": [
    "image_tags=soup.find_all(\"img\")"
   ]
  },
  {
   "cell_type": "code",
   "execution_count": 166,
   "id": "4575a587",
   "metadata": {},
   "outputs": [],
   "source": [
    "del image_tags[0]"
   ]
  },
  {
   "cell_type": "code",
   "execution_count": 167,
   "id": "d00adfd3",
   "metadata": {},
   "outputs": [
    {
     "data": {
      "text/plain": [
       "[<img alt=\"\" class=\"DS1iW\" src=\"https://encrypted-tbn0.gstatic.com/images?q=tbn:ANd9GcQ3x8cWl6De5Aaq7t_HIG1ag2w5krFmatWgFCWIernpZ2CKoNHE5cUDFQHF1OI&amp;s\"/>,\n",
       " <img alt=\"\" class=\"DS1iW\" src=\"https://encrypted-tbn0.gstatic.com/images?q=tbn:ANd9GcSfaO9pXO2zmPgXBgyqva7YLvuoWfYENURucxwRGYsNdegpmUE5dGoG9uVvDhE&amp;s\"/>,\n",
       " <img alt=\"\" class=\"DS1iW\" src=\"https://encrypted-tbn0.gstatic.com/images?q=tbn:ANd9GcRnLm2SYvnr37h30MQ-SKaPd4eeIhBIEbcucnvl2OOyrtDe6yog3zHUuamXzw&amp;s\"/>,\n",
       " <img alt=\"\" class=\"DS1iW\" src=\"https://encrypted-tbn0.gstatic.com/images?q=tbn:ANd9GcTO7aCMLqNGuW66nQNhfNWK-SR7e1faS-TOUVtiQ1DFaAlBg82t55NPlrNBUg&amp;s\"/>,\n",
       " <img alt=\"\" class=\"DS1iW\" src=\"https://encrypted-tbn0.gstatic.com/images?q=tbn:ANd9GcQ8Ty5c6c8LadqngT3YsK8X5rpT6opd40We5FLTSBuzH9ETuu_46qK8GG7B5W4&amp;s\"/>,\n",
       " <img alt=\"\" class=\"DS1iW\" src=\"https://encrypted-tbn0.gstatic.com/images?q=tbn:ANd9GcTFIakSYT34ulob4a58WDcUpohO4QZEWrQc-RmZm_m2193YnUFaBSG0DRfWIrE&amp;s\"/>,\n",
       " <img alt=\"\" class=\"DS1iW\" src=\"https://encrypted-tbn0.gstatic.com/images?q=tbn:ANd9GcSVjRPLayg0BcKpOuvAroXFD-UzdpmbmjZ19bLB3HQGWwD-a8O2EsVtWm6Njww&amp;s\"/>,\n",
       " <img alt=\"\" class=\"DS1iW\" src=\"https://encrypted-tbn0.gstatic.com/images?q=tbn:ANd9GcS4Q5O2G_Fzsuj77rDZwgZU_lQxrhaYL4oDjhQ4mfibBUe0QgPBqYm_bnODqA&amp;s\"/>,\n",
       " <img alt=\"\" class=\"DS1iW\" src=\"https://encrypted-tbn0.gstatic.com/images?q=tbn:ANd9GcTV8MJFw7fy6tyin3Ejiy6itSLuEdrwJpsHHMjDvuYTDCB24kWJxwOFwk1QYA&amp;s\"/>,\n",
       " <img alt=\"\" class=\"DS1iW\" src=\"https://encrypted-tbn0.gstatic.com/images?q=tbn:ANd9GcRKxzcwnPqKBIy7ybaMF7kTL0_9qecoJrOd8y4XenJwzO-njsXz6ZnbdzZydTs&amp;s\"/>,\n",
       " <img alt=\"\" class=\"DS1iW\" src=\"https://encrypted-tbn0.gstatic.com/images?q=tbn:ANd9GcT5XyZbGDbZPV8YYOJyqVHtXyOr1FwaWUftPSJZWJp6HDvZlW3iUL6x7iebvGE&amp;s\"/>,\n",
       " <img alt=\"\" class=\"DS1iW\" src=\"https://encrypted-tbn0.gstatic.com/images?q=tbn:ANd9GcRy6kZB5lwK2F5dU5SDO9XRHxZfO3H3B1L6RMw-5RIzkxBmquMKNRnamK4utII&amp;s\"/>,\n",
       " <img alt=\"\" class=\"DS1iW\" src=\"https://encrypted-tbn0.gstatic.com/images?q=tbn:ANd9GcQ6Avf0n4Jtkc8U3rhCxmfcGrDCDmoM0uUmkEKWrCgCfSuPZtev9St_ydOr7w&amp;s\"/>,\n",
       " <img alt=\"\" class=\"DS1iW\" src=\"https://encrypted-tbn0.gstatic.com/images?q=tbn:ANd9GcQXf3gm4D4gMh7BpIFc3_FLaK8plcd2CabxtVUQpRiHhwGgnKylKFsdAo7cdfM&amp;s\"/>,\n",
       " <img alt=\"\" class=\"DS1iW\" src=\"https://encrypted-tbn0.gstatic.com/images?q=tbn:ANd9GcRqhBmpDNdYiIo8wfzzSdj4wY9CCvSxc1Eq8dIWKVCSs_6WDWqsqko41wkSQzA&amp;s\"/>,\n",
       " <img alt=\"\" class=\"DS1iW\" src=\"https://encrypted-tbn0.gstatic.com/images?q=tbn:ANd9GcSVm9kaTBqNaQ1JP_FOZWxwgxrmjJGtny6rZJceSC1hKBlb6XV-VvQzO39P&amp;s\"/>,\n",
       " <img alt=\"\" class=\"DS1iW\" src=\"https://encrypted-tbn0.gstatic.com/images?q=tbn:ANd9GcSrPzKVoUEPdKTWkFN6UIeRz-x_OLEHCJVODqpCMkZf0hq52ami3v-S4bvRtpA&amp;s\"/>,\n",
       " <img alt=\"\" class=\"DS1iW\" src=\"https://encrypted-tbn0.gstatic.com/images?q=tbn:ANd9GcTOztjD08KIqmQPRY5T_pBO0G_PMbhqaDyoC9G7lHZYepCor0Q-Ma0dHi_tYr8&amp;s\"/>,\n",
       " <img alt=\"\" class=\"DS1iW\" src=\"https://encrypted-tbn0.gstatic.com/images?q=tbn:ANd9GcQ641ywzzgotPwO-R8h8WP_cd3EH2jbapwwL2buQFvPqbhmltboEVOmgijMqfk&amp;s\"/>,\n",
       " <img alt=\"\" class=\"DS1iW\" src=\"https://encrypted-tbn0.gstatic.com/images?q=tbn:ANd9GcSa8Z38jIBIf8ZZmLzYpXlJcXIjEY047cZjGRPSk7pqMk4qFypA36nByiYmhA&amp;s\"/>]"
      ]
     },
     "execution_count": 167,
     "metadata": {},
     "output_type": "execute_result"
    }
   ],
   "source": [
    "image_tags\n"
   ]
  },
  {
   "cell_type": "code",
   "execution_count": 168,
   "id": "bd7c3e66",
   "metadata": {},
   "outputs": [
    {
     "data": {
      "text/plain": [
       "20"
      ]
     },
     "execution_count": 168,
     "metadata": {},
     "output_type": "execute_result"
    }
   ],
   "source": [
    "len(image_tags)"
   ]
  },
  {
   "cell_type": "code",
   "execution_count": 169,
   "id": "35753d9c",
   "metadata": {},
   "outputs": [
    {
     "data": {
      "text/plain": [
       "<Response [200]>"
      ]
     },
     "execution_count": 169,
     "metadata": {},
     "output_type": "execute_result"
    }
   ],
   "source": [
    "requests.get(\"https://encrypted-tbn0.gstatic.com/images?q=tbn:ANd9GcQWIm8IhNbQ8cHHkx25dbTK7_RaRK8DrRrK4GrR4wyApiAsBJPUbhsa7ICjKg&s\")"
   ]
  },
  {
   "cell_type": "code",
   "execution_count": 170,
   "id": "fc4baa17",
   "metadata": {},
   "outputs": [],
   "source": [
    "for i in image_tags:\n",
    "    #print(i['src'])\n",
    "    image_url=i['src']\n",
    "    image_data=requests.get(image_url).content\n",
    "    with open(os.path.join(save_dir,f\"{query}_{image_tags.index(i)}.jpg\"),\"wb\") as f:\n",
    "        f.write(image_data)"
   ]
  },
  {
   "cell_type": "code",
   "execution_count": null,
   "id": "50101e41",
   "metadata": {},
   "outputs": [],
   "source": []
  },
  {
   "cell_type": "code",
   "execution_count": null,
   "id": "ef234025",
   "metadata": {},
   "outputs": [],
   "source": []
  }
 ],
 "metadata": {
  "kernelspec": {
   "display_name": "Python 3 (ipykernel)",
   "language": "python",
   "name": "python3"
  },
  "language_info": {
   "codemirror_mode": {
    "name": "ipython",
    "version": 3
   },
   "file_extension": ".py",
   "mimetype": "text/x-python",
   "name": "python",
   "nbconvert_exporter": "python",
   "pygments_lexer": "ipython3",
   "version": "3.11.7"
  }
 },
 "nbformat": 4,
 "nbformat_minor": 5
}
